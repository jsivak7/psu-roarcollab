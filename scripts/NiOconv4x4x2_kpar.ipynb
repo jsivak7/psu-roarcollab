{
 "cells": [
  {
   "cell_type": "markdown",
   "metadata": {},
   "source": [
    "# NiOconv4x4x2 KPAR\n",
    "\n",
    "$$Speedup = \\frac{t(1)}{t(N)}$$\n",
    "\n",
    "where $t(1)$ is the computational time for running the software using one core, and $t(N)$ is the computational time running the same software with N cores. (https://hpc-wiki.info/hpc/Scaling)"
   ]
  },
  {
   "cell_type": "code",
   "execution_count": null,
   "metadata": {},
   "outputs": [
    {
     "ename": "",
     "evalue": "",
     "output_type": "error",
     "traceback": [
      "\u001b[1;31mFailed to start the Kernel. \n",
      "\u001b[1;31mView Jupyter <a href='command:jupyter.viewOutput'>log</a> for further details."
     ]
    }
   ],
   "source": [
    "import pandas as pd\n",
    "import matplotlib.pyplot as plt\n",
    "plt.rcParams['figure.dpi'] = 200\n",
    "plt.rcParams['figure.figsize'] = [5, 3]\n",
    "plt.rcParams['font.size'] = 10\n",
    "plt.rcParams['axes.linewidth'] = 1.25"
   ]
  },
  {
   "cell_type": "code",
   "execution_count": null,
   "metadata": {},
   "outputs": [
    {
     "ename": "",
     "evalue": "",
     "output_type": "error",
     "traceback": [
      "\u001b[1;31mFailed to start the Kernel. \n",
      "\u001b[1;31mView Jupyter <a href='command:jupyter.viewOutput'>log</a> for further details."
     ]
    }
   ],
   "source": [
    "bc_sr = pd.read_csv('../data/NiOconv4x4x2/kpar_multinode/bc_sapphirerapids.csv')\n",
    "sc_cl = pd.read_csv('../data/NiOconv4x4x2/kpar_multinode/sc_cascadelake.csv')\n",
    "sc_il = pd.read_csv('../data/NiOconv4x4x2/kpar_multinode/sc_icelake.csv')"
   ]
  },
  {
   "cell_type": "code",
   "execution_count": null,
   "metadata": {},
   "outputs": [
    {
     "ename": "",
     "evalue": "",
     "output_type": "error",
     "traceback": [
      "\u001b[1;31mFailed to start the Kernel. \n",
      "\u001b[1;31mView Jupyter <a href='command:jupyter.viewOutput'>log</a> for further details."
     ]
    }
   ],
   "source": [
    "bc_sr"
   ]
  },
  {
   "cell_type": "code",
   "execution_count": null,
   "metadata": {},
   "outputs": [
    {
     "ename": "",
     "evalue": "",
     "output_type": "error",
     "traceback": [
      "\u001b[1;31mRunning cells with 'psu-roarcollab' requires the ipykernel package.\n",
      "\u001b[1;31mRun the following command to install 'ipykernel' into the Python environment. \n",
      "\u001b[1;31mCommand: 'conda install -n psu-roarcollab ipykernel --update-deps --force-reinstall'"
     ]
    }
   ],
   "source": [
    "for kpar in [1, 'nodes']:\n",
    "    plt.plot(bc_sr.num_nodes, bc_sr[f\"kpar1\"][0]/bc_sr[f\"kpar{kpar}\"], label=kpar, marker='x', alpha=0.8)\n",
    "plt.plot([0, 8], [0, 8], color='black', linestyle='--')\n",
    "plt.xlabel(\"# nodes\")\n",
    "plt.ylabel(\"speedup\")\n",
    "plt.title(\"Basic Cores (SapphireRapids)\", weight='bold')\n",
    "plt.legend(title='KPAR', loc='center left', bbox_to_anchor=(1, 0.5))\n",
    "plt.grid(alpha=0.1)"
   ]
  },
  {
   "cell_type": "code",
   "execution_count": null,
   "metadata": {},
   "outputs": [
    {
     "ename": "",
     "evalue": "",
     "output_type": "error",
     "traceback": [
      "\u001b[1;31mRunning cells with 'psu-roarcollab' requires the ipykernel package.\n",
      "\u001b[1;31mRun the following command to install 'ipykernel' into the Python environment. \n",
      "\u001b[1;31mCommand: 'conda install -n psu-roarcollab ipykernel --update-deps --force-reinstall'"
     ]
    }
   ],
   "source": [
    "for kpar in [1, 'nodes']:\n",
    "    plt.plot(sc_cl.num_nodes, sc_cl[f\"kpar1\"][0]/sc_cl[f\"kpar{kpar}\"], label=kpar, marker='x', alpha=0.8)\n",
    "plt.plot([0, 8], [0, 8], color='black', linestyle='--')\n",
    "plt.xlabel(\"# nodes\")\n",
    "plt.ylabel(\"speedup\")\n",
    "plt.title(\"Standard Cores (CascadeLake)\", weight='bold')\n",
    "plt.legend(title='KPAR', loc='center left', bbox_to_anchor=(1, 0.5))\n",
    "plt.grid(alpha=0.1)"
   ]
  },
  {
   "cell_type": "code",
   "execution_count": null,
   "metadata": {},
   "outputs": [
    {
     "ename": "",
     "evalue": "",
     "output_type": "error",
     "traceback": [
      "\u001b[1;31mRunning cells with 'psu-roarcollab' requires the ipykernel package.\n",
      "\u001b[1;31mRun the following command to install 'ipykernel' into the Python environment. \n",
      "\u001b[1;31mCommand: 'conda install -n psu-roarcollab ipykernel --update-deps --force-reinstall'"
     ]
    }
   ],
   "source": [
    "for kpar in [1, 'nodes']:\n",
    "    plt.plot(sc_il.num_nodes, sc_il[f\"kpar1\"][0]/sc_il[f\"kpar{kpar}\"], label=kpar, marker='x', alpha=0.8)\n",
    "plt.plot([0, 8], [0, 8], color='black', linestyle='--')\n",
    "plt.xlabel(\"# nodes\")\n",
    "plt.ylabel(\"speedup\")\n",
    "plt.title(\"Standard Cores (IceLake)\", weight='bold')\n",
    "plt.legend(title='KPAR', loc='center left', bbox_to_anchor=(1, 0.5))\n",
    "plt.grid(alpha=0.1)"
   ]
  },
  {
   "cell_type": "code",
   "execution_count": null,
   "metadata": {},
   "outputs": [
    {
     "ename": "",
     "evalue": "",
     "output_type": "error",
     "traceback": [
      "\u001b[1;31mRunning cells with 'psu-roarcollab' requires the ipykernel package.\n",
      "\u001b[1;31mRun the following command to install 'ipykernel' into the Python environment. \n",
      "\u001b[1;31mCommand: 'conda install -n psu-roarcollab ipykernel --update-deps --force-reinstall'"
     ]
    }
   ],
   "source": [
    "plt.plot(bc_sr.num_nodes, bc_sr[f\"kparnodes\"], label='bc_sapphirelake', marker='o', alpha=0.8)\n",
    "plt.plot(sc_cl.num_nodes, sc_cl[f\"kparnodes\"], label='sc_cascadelake', marker='^', alpha=0.8)\n",
    "plt.plot(sc_il.num_nodes, sc_il[f\"kparnodes\"], label='sc_icelake', marker='^', alpha=0.8)\n",
    "\n",
    "plt.xlabel(\"# nodes\")\n",
    "plt.ylabel(\"cpu time (sec)\")\n",
    "plt.title(\"All Hardware\", weight='bold')\n",
    "plt.legend(loc='center left', bbox_to_anchor=(1, 0.5))\n",
    "plt.grid(alpha=0.1)"
   ]
  },
  {
   "cell_type": "code",
   "execution_count": null,
   "metadata": {},
   "outputs": [
    {
     "ename": "",
     "evalue": "",
     "output_type": "error",
     "traceback": [
      "\u001b[1;31mRunning cells with 'psu-roarcollab' requires the ipykernel package.\n",
      "\u001b[1;31mRun the following command to install 'ipykernel' into the Python environment. \n",
      "\u001b[1;31mCommand: 'conda install -n psu-roarcollab ipykernel --update-deps --force-reinstall'"
     ]
    }
   ],
   "source": []
  }
 ],
 "metadata": {
  "kernelspec": {
   "display_name": "psu-roarcollab",
   "language": "python",
   "name": "python3"
  },
  "language_info": {
   "codemirror_mode": {
    "name": "ipython",
    "version": 3
   },
   "file_extension": ".py",
   "mimetype": "text/x-python",
   "name": "python",
   "nbconvert_exporter": "python",
   "pygments_lexer": "ipython3",
   "version": "3.11.8"
  }
 },
 "nbformat": 4,
 "nbformat_minor": 2
}
